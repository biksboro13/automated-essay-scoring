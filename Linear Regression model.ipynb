{
 "cells": [
  {
   "cell_type": "markdown",
   "metadata": {},
   "source": [
    "# Linear Regression Model"
   ]
  },
  {
   "cell_type": "code",
   "execution_count": 1,
   "metadata": {},
   "outputs": [],
   "source": [
    "#Import the path containing helper functions and library imports list.\n",
    "import sys\n",
    "sys.path.append('./utils')"
   ]
  },
  {
   "cell_type": "code",
   "execution_count": 2,
   "metadata": {},
   "outputs": [
    {
     "name": "stderr",
     "output_type": "stream",
     "text": [
      "Using TensorFlow backend.\n"
     ]
    }
   ],
   "source": [
    "#Imports\n",
    "from requirements import *\n",
    "import helperfunctions as helper"
   ]
  },
  {
   "cell_type": "code",
   "execution_count": 3,
   "metadata": {},
   "outputs": [
    {
     "name": "stdout",
     "output_type": "stream",
     "text": [
      "5309\n",
      "5309\n"
     ]
    },
    {
     "data": {
      "text/html": [
       "<div>\n",
       "<style scoped>\n",
       "    .dataframe tbody tr th:only-of-type {\n",
       "        vertical-align: middle;\n",
       "    }\n",
       "\n",
       "    .dataframe tbody tr th {\n",
       "        vertical-align: top;\n",
       "    }\n",
       "\n",
       "    .dataframe thead th {\n",
       "        text-align: right;\n",
       "    }\n",
       "</style>\n",
       "<table border=\"1\" class=\"dataframe\">\n",
       "  <thead>\n",
       "    <tr style=\"text-align: right;\">\n",
       "      <th></th>\n",
       "      <th>essay</th>\n",
       "      <th>word_count</th>\n",
       "      <th>long_word_count</th>\n",
       "      <th>avg_word_length_per_essay</th>\n",
       "      <th>wrong_words</th>\n",
       "      <th>no_of_domain_words</th>\n",
       "      <th>word_to_sent_ratio</th>\n",
       "      <th>num_of_characters</th>\n",
       "      <th>sentence_count</th>\n",
       "      <th>noun_count</th>\n",
       "      <th>verb_count</th>\n",
       "      <th>comma_count</th>\n",
       "      <th>punctuation_count</th>\n",
       "      <th>adjective_count</th>\n",
       "      <th>adverb_count</th>\n",
       "      <th>quotation_mark_count</th>\n",
       "    </tr>\n",
       "  </thead>\n",
       "  <tbody>\n",
       "    <tr>\n",
       "      <th>0</th>\n",
       "      <td>Dear local newspaper, I think effects computer...</td>\n",
       "      <td>236</td>\n",
       "      <td>54</td>\n",
       "      <td>4.83</td>\n",
       "      <td>67</td>\n",
       "      <td>169</td>\n",
       "      <td>14.75</td>\n",
       "      <td>1819</td>\n",
       "      <td>16</td>\n",
       "      <td>78</td>\n",
       "      <td>51</td>\n",
       "      <td>15</td>\n",
       "      <td>17</td>\n",
       "      <td>24</td>\n",
       "      <td>10</td>\n",
       "      <td>4</td>\n",
       "    </tr>\n",
       "    <tr>\n",
       "      <th>1</th>\n",
       "      <td>Dear @CAPS1 @CAPS2, I believe that using compu...</td>\n",
       "      <td>281</td>\n",
       "      <td>76</td>\n",
       "      <td>4.93</td>\n",
       "      <td>56</td>\n",
       "      <td>225</td>\n",
       "      <td>16.53</td>\n",
       "      <td>2205</td>\n",
       "      <td>17</td>\n",
       "      <td>94</td>\n",
       "      <td>66</td>\n",
       "      <td>11</td>\n",
       "      <td>17</td>\n",
       "      <td>18</td>\n",
       "      <td>17</td>\n",
       "      <td>3</td>\n",
       "    </tr>\n",
       "    <tr>\n",
       "      <th>2</th>\n",
       "      <td>Dear, @CAPS1 @CAPS2 @CAPS3 More and more peopl...</td>\n",
       "      <td>188</td>\n",
       "      <td>51</td>\n",
       "      <td>5.01</td>\n",
       "      <td>34</td>\n",
       "      <td>154</td>\n",
       "      <td>13.43</td>\n",
       "      <td>1482</td>\n",
       "      <td>14</td>\n",
       "      <td>68</td>\n",
       "      <td>43</td>\n",
       "      <td>8</td>\n",
       "      <td>14</td>\n",
       "      <td>17</td>\n",
       "      <td>10</td>\n",
       "      <td>4</td>\n",
       "    </tr>\n",
       "    <tr>\n",
       "      <th>3</th>\n",
       "      <td>Dear Local Newspaper, @CAPS1 I have found that...</td>\n",
       "      <td>346</td>\n",
       "      <td>109</td>\n",
       "      <td>5.38</td>\n",
       "      <td>76</td>\n",
       "      <td>270</td>\n",
       "      <td>13.31</td>\n",
       "      <td>2817</td>\n",
       "      <td>26</td>\n",
       "      <td>134</td>\n",
       "      <td>64</td>\n",
       "      <td>12</td>\n",
       "      <td>26</td>\n",
       "      <td>38</td>\n",
       "      <td>21</td>\n",
       "      <td>5</td>\n",
       "    </tr>\n",
       "    <tr>\n",
       "      <th>4</th>\n",
       "      <td>Dear @LOCATION1, I know having computers has a...</td>\n",
       "      <td>318</td>\n",
       "      <td>81</td>\n",
       "      <td>4.99</td>\n",
       "      <td>88</td>\n",
       "      <td>230</td>\n",
       "      <td>10.60</td>\n",
       "      <td>2533</td>\n",
       "      <td>30</td>\n",
       "      <td>107</td>\n",
       "      <td>57</td>\n",
       "      <td>12</td>\n",
       "      <td>30</td>\n",
       "      <td>21</td>\n",
       "      <td>24</td>\n",
       "      <td>5</td>\n",
       "    </tr>\n",
       "  </tbody>\n",
       "</table>\n",
       "</div>"
      ],
      "text/plain": [
       "                                               essay  word_count  \\\n",
       "0  Dear local newspaper, I think effects computer...         236   \n",
       "1  Dear @CAPS1 @CAPS2, I believe that using compu...         281   \n",
       "2  Dear, @CAPS1 @CAPS2 @CAPS3 More and more peopl...         188   \n",
       "3  Dear Local Newspaper, @CAPS1 I have found that...         346   \n",
       "4  Dear @LOCATION1, I know having computers has a...         318   \n",
       "\n",
       "   long_word_count  avg_word_length_per_essay  wrong_words  \\\n",
       "0               54                       4.83           67   \n",
       "1               76                       4.93           56   \n",
       "2               51                       5.01           34   \n",
       "3              109                       5.38           76   \n",
       "4               81                       4.99           88   \n",
       "\n",
       "   no_of_domain_words  word_to_sent_ratio  num_of_characters  sentence_count  \\\n",
       "0                 169               14.75               1819              16   \n",
       "1                 225               16.53               2205              17   \n",
       "2                 154               13.43               1482              14   \n",
       "3                 270               13.31               2817              26   \n",
       "4                 230               10.60               2533              30   \n",
       "\n",
       "   noun_count  verb_count  comma_count  punctuation_count  adjective_count  \\\n",
       "0          78          51           15                 17               24   \n",
       "1          94          66           11                 17               18   \n",
       "2          68          43            8                 14               17   \n",
       "3         134          64           12                 26               38   \n",
       "4         107          57           12                 30               21   \n",
       "\n",
       "   adverb_count  quotation_mark_count  \n",
       "0            10                     4  \n",
       "1            17                     3  \n",
       "2            10                     4  \n",
       "3            21                     5  \n",
       "4            24                     5  "
      ]
     },
     "execution_count": 3,
     "metadata": {},
     "output_type": "execute_result"
    }
   ],
   "source": [
    "#Load the feature generated data at the end of CustomeFeatureGeneration.ipynb\n",
    "X_all = pd.read_csv(\"model_and_visualization/features_set_1.csv\")\n",
    "y_all = pd.read_csv(\"model_and_visualization/target_set_2.csv\")\n",
    "X_all = X_all.drop('Unnamed: 0',axis=1)\n",
    "y_all = y_all.drop('Unnamed: 0',axis=1)\n",
    "\n",
    "print len(X_all)\n",
    "print len(y_all)\n",
    "X_all.head()"
   ]
  },
  {
   "cell_type": "markdown",
   "metadata": {},
   "source": [
    "# Forward Feature Selection\n",
    "Please refer section 2.4.3 of the report for Forward feature algoritm."
   ]
  },
  {
   "cell_type": "code",
   "execution_count": 4,
   "metadata": {},
   "outputs": [
    {
     "data": {
      "text/plain": [
       "{'adjective_count': 45.742,\n",
       " 'adverb_count': 44.9067,\n",
       " 'avg_word_length_per_essay': 6.1368,\n",
       " 'comma_count': 29.255,\n",
       " 'long_word_count': 53.028,\n",
       " 'no_of_domain_words': 54.1582,\n",
       " 'noun_count': 58.254,\n",
       " 'num_of_characters': 52.3575,\n",
       " 'punctuation_count': 36.9006,\n",
       " 'quotation_mark_count': 16.561,\n",
       " 'sentence_count': 57.3594,\n",
       " 'verb_count': 49.2274,\n",
       " 'word_count': 52.9941,\n",
       " 'word_to_sent_ratio': 3.5055,\n",
       " 'wrong_words': 42.9447}"
      ]
     },
     "execution_count": 4,
     "metadata": {},
     "output_type": "execute_result"
    },
    {
     "data": {
      "image/png": "[encoded data removed]",
      "text/plain": [
       "<Figure size 432x288 with 1 Axes>"
      ]
     },
     "metadata": {
      "needs_background": "light"
     },
     "output_type": "display_data"
    }
   ],
   "source": [
    "feature_columns = [\"word_count\",\"long_word_count\",\"avg_word_length_per_essay\",\"wrong_words\",\"no_of_domain_words\",\"word_to_sent_ratio\",\"num_of_characters\",\"sentence_count\",\"noun_count\",\"verb_count\",\"comma_count\",\"punctuation_count\",\"adjective_count\",\"adverb_count\",\"quotation_mark_count\"]\n",
    "feature_dict = {}\n",
    "\n",
    "# Evaluating performance of individual features.    \n",
    "for f in feature_columns:\n",
    "    score = helper.Evaluate(X_all,y_all,[f]) #helper function to evaluate the feature on the entire data set using 5 fold cross validation.\n",
    "    feature_dict[f] = round(float(score)*100,4)\n",
    "feature_dict"
   ]
  },
  {
   "cell_type": "code",
   "execution_count": 5,
   "metadata": {},
   "outputs": [
    {
     "name": "stdout",
     "output_type": "stream",
     "text": [
      "['(0) noun_count', '(1) sentence_count', '(2) no_of_domain_words', '(3) long_word_count', '(4) word_count', '(5) num_of_characters', '(6) verb_count', '(7) adjective_count', '(8) adverb_count', '(9) wrong_words', '(10) punctuation_count', '(11) comma_count', '(12) quotation_mark_count', '(13) avg_word_length_per_essay', '(14) word_to_sent_ratio']\n"
     ]
    }
   ],
   "source": [
    "# Sort the features based on the performance in decreasing order so that during forward feature \n",
    "# selection, a feature is selected only if the addition of a feature increases the accuracy higher than\n",
    "#the accuracy of the best performing individual feature.\n",
    "\n",
    "import operator\n",
    "sorted_feature_list = sorted(feature_dict.items(), key=operator.itemgetter(1),reverse=True)\n",
    "\n",
    "objects = [x[1] for x in sorted_feature_list]\n",
    "features = [\"(\"+str(i)+\") \"+sorted_feature_list[i][0] for i in range(len(sorted_feature_list))]\n",
    "print features"
   ]
  },
  {
   "cell_type": "code",
   "execution_count": 6,
   "metadata": {},
   "outputs": [
    {
     "data": {
      "image/png": "[encoded data removed]",
      "text/plain": [
       "<Figure size 576x360 with 1 Axes>"
      ]
     },
     "metadata": {
      "needs_background": "light"
     },
     "output_type": "display_data"
    }
   ],
   "source": [
    "# Visualizing the single feature Kappa score.\n",
    "x_pos = np.arange(len(objects))\n",
    "plt.figure(figsize=(8,5))\n",
    "plt.bar(x_pos, objects, align='center', alpha=0.5)\n",
    "plt.ylabel('Kappa score')\n",
    "plt.xlabel('Features')\n",
    "plt.xticks(x_pos,features,rotation=90)\n",
    "plt.title('Single feature Kappa')\n",
    "plt.show()"
   ]
  },
  {
   "cell_type": "code",
   "execution_count": 7,
   "metadata": {},
   "outputs": [
    {
     "data": {
      "image/png": "[encoded data removed]",
      "text/plain": [
       "<Figure size 432x288 with 1 Axes>"
      ]
     },
     "metadata": {
      "needs_background": "light"
     },
     "output_type": "display_data"
    }
   ],
   "source": [
    "#Forward feature selection.\n",
    "sorted_f = [i[0] for i in sorted_feature_list]\n",
    "objects = []\n",
    "results = []\n",
    "for i in range(1,len(sorted_f)+1):\n",
    "    forward_feature_list = sorted_f[:i]\n",
    "    round(float(score)*100,4)\n",
    "    result = round(float(helper.Evaluate(X_all,y_all,forward_feature_list))*100,4)\n",
    "    results.append(result)\n",
    "    objects.append(forward_feature_list)"
   ]
  },
  {
   "cell_type": "code",
   "execution_count": 8,
   "metadata": {},
   "outputs": [
    {
     "data": {
      "image/png": "[encoded data removed]",
      "text/plain": [
       "<Figure size 576x360 with 1 Axes>"
      ]
     },
     "metadata": {
      "needs_background": "light"
     },
     "output_type": "display_data"
    }
   ],
   "source": [
    "# Visualizing the forward feature selection scores. \n",
    "\n",
    "# Selected the feature set with maximum Kappa score.\n",
    "features = ['1','1,2','1,2,3','1,2,3,4','1,2,..5','1,2..6','1,2,..7','1,2,..8','1,2,..9',\n",
    "            '1,2,..10','1,2,..11','1,2,..12','1,2,..13','1,2,..14','1,2,..15','1,2,..16']\n",
    "y_pos = np.arange(len(objects))\n",
    "plt.figure(figsize=(8,5))\n",
    "plt.bar(y_pos,results)\n",
    "plt.title('Greedy - Forward feature selection')\n",
    "plt.ylabel('Kappa-Score')\n",
    "plt.xlabel('Forward feature list')\n",
    "plt.xticks(y_pos,features,rotation='vertical')\n",
    "plt.show()"
   ]
  },
  {
   "cell_type": "markdown",
   "metadata": {},
   "source": [
    "### Obtaining the final Kappa score on the learning model based completely on heuristic features."
   ]
  },
  {
   "cell_type": "code",
   "execution_count": 9,
   "metadata": {},
   "outputs": [
    {
     "name": "stdout",
     "output_type": "stream",
     "text": [
      "0.6712543935208952\n",
      "0.6709367657030724\n"
     ]
    },
    {
     "data": {
      "text/plain": [
       "['noun_count',\n",
       " 'sentence_count',\n",
       " 'no_of_domain_words',\n",
       " 'long_word_count',\n",
       " 'word_count',\n",
       " 'num_of_characters',\n",
       " 'verb_count',\n",
       " 'adjective_count',\n",
       " 'adverb_count',\n",
       " 'wrong_words',\n",
       " 'punctuation_count',\n",
       " 'comma_count',\n",
       " 'quotation_mark_count',\n",
       " 'avg_word_length_per_essay',\n",
       " 'word_to_sent_ratio']"
      ]
     },
     "execution_count": 9,
     "metadata": {},
     "output_type": "execute_result"
    },
    {
     "data": {
      "image/png": "[encoded data removed]",
      "text/plain": [
       "<Figure size 432x288 with 1 Axes>"
      ]
     },
     "metadata": {
      "needs_background": "light"
     },
     "output_type": "display_data"
    }
   ],
   "source": [
    "# Objects[14] has the highest kappa score as per the bar graph generated. \n",
    "\n",
    "selected_features = objects[14]\n",
    "\n",
    "print helper.Evaluate(X_all,y_all,selected_features)\n",
    "print helper.Evaluate(X_all,y_all,objects[14])\n",
    "\n",
    "selected_features"
   ]
  },
  {
   "cell_type": "markdown",
   "metadata": {},
   "source": [
    "### The initial model with only heuristic features obtained a Kappa score of 0.6740"
   ]
  },
  {
   "cell_type": "markdown",
   "metadata": {},
   "source": [
    "## Refinement\n",
    "### Training the model with word vectors and heuristic features\n",
    "\n",
    "```helper.Evaluate()``` function is only used to evaluate the heuristic features."
   ]
  },
  {
   "cell_type": "markdown",
   "metadata": {},
   "source": [
    "### Using sklearn's Dummy Regressor to see if the refined learning model actually learns something."
   ]
  },
  {
   "cell_type": "code",
   "execution_count": 10,
   "metadata": {},
   "outputs": [
    {
     "name": "stdout",
     "output_type": "stream",
     "text": [
      "Performing sentence and word tokenizing which will be used for word2vec\n"
     ]
    },
    {
     "name": "stderr",
     "output_type": "stream",
     "text": [
      "2019-05-14 17:40:46,228 : INFO : collecting all words and their counts\n",
      "2019-05-14 17:40:46,230 : INFO : PROGRESS: at sentence #0, processed 0 words, keeping 0 word types\n",
      "2019-05-14 17:40:46,259 : INFO : PROGRESS: at sentence #10000, processed 80648 words, keeping 6934 word types\n",
      "2019-05-14 17:40:46,289 : INFO : PROGRESS: at sentence #20000, processed 161131 words, keeping 10420 word types\n",
      "2019-05-14 17:40:46,311 : INFO : PROGRESS: at sentence #30000, processed 241009 words, keeping 12979 word types\n",
      "2019-05-14 17:40:46,337 : INFO : PROGRESS: at sentence #40000, processed 326021 words, keeping 15761 word types\n",
      "2019-05-14 17:40:46,363 : INFO : PROGRESS: at sentence #50000, processed 411464 words, keeping 18015 word types\n",
      "2019-05-14 17:40:46,388 : INFO : PROGRESS: at sentence #60000, processed 498166 words, keeping 19864 word types\n",
      "2019-05-14 17:40:46,415 : INFO : collected 22352 word types from a corpus of 585944 raw words and 69968 sentences\n",
      "2019-05-14 17:40:46,416 : INFO : Loading a fresh vocabulary\n",
      "2019-05-14 17:40:46,436 : INFO : effective_min_count=40 retains 1588 unique words (7% of original 22352, drops 20764)\n",
      "2019-05-14 17:40:46,437 : INFO : effective_min_count=40 leaves 511963 word corpus (87% of original 585944, drops 73981)\n",
      "2019-05-14 17:40:46,446 : INFO : deleting the raw counts dictionary of 22352 items\n",
      "2019-05-14 17:40:46,451 : INFO : sample=0.001 downsamples 75 most-common words\n",
      "2019-05-14 17:40:46,453 : INFO : downsampling leaves estimated 416861 word corpus (81.4% of prior 511963)\n",
      "2019-05-14 17:40:46,480 : INFO : estimated required memory for 1588 words and 300 dimensions: 4605200 bytes\n",
      "2019-05-14 17:40:46,481 : INFO : resetting layer weights\n",
      "2019-05-14 17:40:46,504 : INFO : training model with 4 workers on 1588 vocabulary and 300 features, using sg=0 hs=0 sample=0.001 negative=5 window=10\n",
      "2019-05-14 17:40:46,935 : INFO : worker thread finished; awaiting finish of 3 more threads\n",
      "2019-05-14 17:40:46,939 : INFO : worker thread finished; awaiting finish of 2 more threads\n",
      "2019-05-14 17:40:46,945 : INFO : worker thread finished; awaiting finish of 1 more threads\n",
      "2019-05-14 17:40:46,947 : INFO : worker thread finished; awaiting finish of 0 more threads\n",
      "2019-05-14 17:40:46,948 : INFO : EPOCH - 1 : training on 585944 raw words (416723 effective words) took 0.4s, 948601 effective words/s\n",
      "2019-05-14 17:40:47,378 : INFO : worker thread finished; awaiting finish of 3 more threads\n",
      "2019-05-14 17:40:47,385 : INFO : worker thread finished; awaiting finish of 2 more threads\n",
      "2019-05-14 17:40:47,389 : INFO : worker thread finished; awaiting finish of 1 more threads\n",
      "2019-05-14 17:40:47,391 : INFO : worker thread finished; awaiting finish of 0 more threads\n",
      "2019-05-14 17:40:47,394 : INFO : EPOCH - 2 : training on 585944 raw words (417135 effective words) took 0.4s, 944073 effective words/s\n",
      "2019-05-14 17:40:47,847 : INFO : worker thread finished; awaiting finish of 3 more threads\n",
      "2019-05-14 17:40:47,855 : INFO : worker thread finished; awaiting finish of 2 more threads\n",
      "2019-05-14 17:40:47,858 : INFO : worker thread finished; awaiting finish of 1 more threads\n",
      "2019-05-14 17:40:47,860 : INFO : worker thread finished; awaiting finish of 0 more threads\n",
      "2019-05-14 17:40:47,862 : INFO : EPOCH - 3 : training on 585944 raw words (416886 effective words) took 0.5s, 899584 effective words/s\n",
      "2019-05-14 17:40:48,283 : INFO : worker thread finished; awaiting finish of 3 more threads\n",
      "2019-05-14 17:40:48,286 : INFO : worker thread finished; awaiting finish of 2 more threads\n",
      "2019-05-14 17:40:48,291 : INFO : worker thread finished; awaiting finish of 1 more threads\n",
      "2019-05-14 17:40:48,293 : INFO : worker thread finished; awaiting finish of 0 more threads\n",
      "2019-05-14 17:40:48,295 : INFO : EPOCH - 4 : training on 585944 raw words (416410 effective words) took 0.4s, 972412 effective words/s\n",
      "2019-05-14 17:40:48,736 : INFO : worker thread finished; awaiting finish of 3 more threads\n",
      "2019-05-14 17:40:48,745 : INFO : worker thread finished; awaiting finish of 2 more threads\n",
      "2019-05-14 17:40:48,749 : INFO : worker thread finished; awaiting finish of 1 more threads\n",
      "2019-05-14 17:40:48,755 : INFO : worker thread finished; awaiting finish of 0 more threads\n",
      "2019-05-14 17:40:48,756 : INFO : EPOCH - 5 : training on 585944 raw words (416854 effective words) took 0.5s, 911884 effective words/s\n",
      "2019-05-14 17:40:48,758 : INFO : training on a 2929720 raw words (2084008 effective words) took 2.3s, 925513 effective words/s\n",
      "2019-05-14 17:40:48,761 : INFO : precomputing L2-norms of word weight vectors\n",
      "2019-05-14 17:40:48,764 : INFO : saving Word2Vec object under model_and_visualization/300features_40minwords_10context, separately None\n",
      "2019-05-14 17:40:48,767 : INFO : not storing attribute vectors_norm\n",
      "2019-05-14 17:40:48,770 : INFO : not storing attribute cum_table\n",
      "2019-05-14 17:40:48,772 : WARNING : this function is deprecated, use smart_open.open instead\n",
      "2019-05-14 17:40:48,789 : INFO : saved model_and_visualization/300features_40minwords_10context\n"
     ]
    },
    {
     "name": "stdout",
     "output_type": "stream",
     "text": [
      "Kappa:  0.0\n",
      "Performing sentence and word tokenizing which will be used for word2vec\n"
     ]
    },
    {
     "name": "stderr",
     "output_type": "stream",
     "text": [
      "2019-05-14 17:41:12,025 : INFO : collecting all words and their counts\n",
      "2019-05-14 17:41:12,027 : INFO : PROGRESS: at sentence #0, processed 0 words, keeping 0 word types\n",
      "2019-05-14 17:41:12,050 : INFO : PROGRESS: at sentence #10000, processed 81011 words, keeping 6981 word types\n",
      "2019-05-14 17:41:12,071 : INFO : PROGRESS: at sentence #20000, processed 161874 words, keeping 10425 word types\n",
      "2019-05-14 17:41:12,095 : INFO : PROGRESS: at sentence #30000, processed 242532 words, keeping 12978 word types\n",
      "2019-05-14 17:41:12,126 : INFO : PROGRESS: at sentence #40000, processed 327978 words, keeping 15877 word types\n",
      "2019-05-14 17:41:12,155 : INFO : PROGRESS: at sentence #50000, processed 414285 words, keeping 18101 word types\n",
      "2019-05-14 17:41:12,181 : INFO : PROGRESS: at sentence #60000, processed 499661 words, keeping 20011 word types\n",
      "2019-05-14 17:41:12,204 : INFO : collected 22485 word types from a corpus of 586290 raw words and 69772 sentences\n",
      "2019-05-14 17:41:12,206 : INFO : Loading a fresh vocabulary\n",
      "2019-05-14 17:41:12,222 : INFO : effective_min_count=40 retains 1591 unique words (7% of original 22485, drops 20894)\n",
      "2019-05-14 17:41:12,224 : INFO : effective_min_count=40 leaves 511860 word corpus (87% of original 586290, drops 74430)\n",
      "2019-05-14 17:41:12,230 : INFO : deleting the raw counts dictionary of 22485 items\n",
      "2019-05-14 17:41:12,233 : INFO : sample=0.001 downsamples 75 most-common words\n",
      "2019-05-14 17:41:12,235 : INFO : downsampling leaves estimated 417001 word corpus (81.5% of prior 511860)\n",
      "2019-05-14 17:41:12,242 : INFO : estimated required memory for 1591 words and 300 dimensions: 4613900 bytes\n",
      "2019-05-14 17:41:12,244 : INFO : resetting layer weights\n",
      "2019-05-14 17:41:12,264 : INFO : training model with 4 workers on 1591 vocabulary and 300 features, using sg=0 hs=0 sample=0.001 negative=5 window=10\n",
      "2019-05-14 17:41:12,819 : INFO : worker thread finished; awaiting finish of 3 more threads\n",
      "2019-05-14 17:41:12,824 : INFO : worker thread finished; awaiting finish of 2 more threads\n",
      "2019-05-14 17:41:12,827 : INFO : worker thread finished; awaiting finish of 1 more threads\n",
      "2019-05-14 17:41:12,831 : INFO : worker thread finished; awaiting finish of 0 more threads\n",
      "2019-05-14 17:41:12,833 : INFO : EPOCH - 1 : training on 586290 raw words (417254 effective words) took 0.6s, 738160 effective words/s\n",
      "2019-05-14 17:41:13,323 : INFO : worker thread finished; awaiting finish of 3 more threads\n",
      "2019-05-14 17:41:13,326 : INFO : worker thread finished; awaiting finish of 2 more threads\n",
      "2019-05-14 17:41:13,331 : INFO : worker thread finished; awaiting finish of 1 more threads\n",
      "2019-05-14 17:41:13,335 : INFO : worker thread finished; awaiting finish of 0 more threads\n",
      "2019-05-14 17:41:13,336 : INFO : EPOCH - 2 : training on 586290 raw words (416698 effective words) took 0.5s, 834472 effective words/s\n",
      "2019-05-14 17:41:13,838 : INFO : worker thread finished; awaiting finish of 3 more threads\n",
      "2019-05-14 17:41:13,844 : INFO : worker thread finished; awaiting finish of 2 more threads\n",
      "2019-05-14 17:41:13,855 : INFO : worker thread finished; awaiting finish of 1 more threads\n",
      "2019-05-14 17:41:13,858 : INFO : worker thread finished; awaiting finish of 0 more threads\n",
      "2019-05-14 17:41:13,861 : INFO : EPOCH - 3 : training on 586290 raw words (417152 effective words) took 0.5s, 801903 effective words/s\n",
      "2019-05-14 17:41:14,384 : INFO : worker thread finished; awaiting finish of 3 more threads\n",
      "2019-05-14 17:41:14,389 : INFO : worker thread finished; awaiting finish of 2 more threads\n",
      "2019-05-14 17:41:14,398 : INFO : worker thread finished; awaiting finish of 1 more threads\n",
      "2019-05-14 17:41:14,402 : INFO : worker thread finished; awaiting finish of 0 more threads\n",
      "2019-05-14 17:41:14,404 : INFO : EPOCH - 4 : training on 586290 raw words (417053 effective words) took 0.5s, 773883 effective words/s\n",
      "2019-05-14 17:41:14,988 : INFO : worker thread finished; awaiting finish of 3 more threads\n",
      "2019-05-14 17:41:15,000 : INFO : worker thread finished; awaiting finish of 2 more threads\n",
      "2019-05-14 17:41:15,007 : INFO : worker thread finished; awaiting finish of 1 more threads\n",
      "2019-05-14 17:41:15,011 : INFO : worker thread finished; awaiting finish of 0 more threads\n",
      "2019-05-14 17:41:15,013 : INFO : EPOCH - 5 : training on 586290 raw words (416880 effective words) took 0.6s, 688893 effective words/s\n",
      "2019-05-14 17:41:15,016 : INFO : training on a 2931450 raw words (2085037 effective words) took 2.8s, 757948 effective words/s\n",
      "2019-05-14 17:41:15,019 : INFO : precomputing L2-norms of word weight vectors\n",
      "2019-05-14 17:41:15,023 : INFO : saving Word2Vec object under model_and_visualization/300features_40minwords_10context, separately None\n",
      "2019-05-14 17:41:15,025 : INFO : not storing attribute vectors_norm\n",
      "2019-05-14 17:41:15,027 : INFO : not storing attribute cum_table\n",
      "2019-05-14 17:41:15,029 : WARNING : this function is deprecated, use smart_open.open instead\n",
      "2019-05-14 17:41:15,048 : INFO : saved model_and_visualization/300features_40minwords_10context\n"
     ]
    },
    {
     "name": "stdout",
     "output_type": "stream",
     "text": [
      "Kappa:  0.0\n",
      "Performing sentence and word tokenizing which will be used for word2vec\n"
     ]
    },
    {
     "name": "stderr",
     "output_type": "stream",
     "text": [
      "2019-05-14 17:41:38,758 : INFO : collecting all words and their counts\n",
      "2019-05-14 17:41:38,759 : INFO : PROGRESS: at sentence #0, processed 0 words, keeping 0 word types\n",
      "2019-05-14 17:41:38,782 : INFO : PROGRESS: at sentence #10000, processed 80912 words, keeping 6888 word types\n",
      "2019-05-14 17:41:38,806 : INFO : PROGRESS: at sentence #20000, processed 162685 words, keeping 10364 word types\n",
      "2019-05-14 17:41:38,829 : INFO : PROGRESS: at sentence #30000, processed 243099 words, keeping 12961 word types\n",
      "2019-05-14 17:41:38,853 : INFO : PROGRESS: at sentence #40000, processed 327704 words, keeping 15782 word types\n",
      "2019-05-14 17:41:38,877 : INFO : PROGRESS: at sentence #50000, processed 413314 words, keeping 18005 word types\n",
      "2019-05-14 17:41:38,910 : INFO : PROGRESS: at sentence #60000, processed 498660 words, keeping 19883 word types\n",
      "2019-05-14 17:41:38,939 : INFO : PROGRESS: at sentence #70000, processed 587719 words, keeping 22470 word types\n",
      "2019-05-14 17:41:38,941 : INFO : collected 22519 word types from a corpus of 589578 raw words and 70201 sentences\n",
      "2019-05-14 17:41:38,943 : INFO : Loading a fresh vocabulary\n",
      "2019-05-14 17:41:38,959 : INFO : effective_min_count=40 retains 1600 unique words (7% of original 22519, drops 20919)\n",
      "2019-05-14 17:41:38,961 : INFO : effective_min_count=40 leaves 515283 word corpus (87% of original 589578, drops 74295)\n",
      "2019-05-14 17:41:38,967 : INFO : deleting the raw counts dictionary of 22519 items\n",
      "2019-05-14 17:41:38,970 : INFO : sample=0.001 downsamples 75 most-common words\n",
      "2019-05-14 17:41:38,972 : INFO : downsampling leaves estimated 420148 word corpus (81.5% of prior 515283)\n",
      "2019-05-14 17:41:38,978 : INFO : estimated required memory for 1600 words and 300 dimensions: 4640000 bytes\n",
      "2019-05-14 17:41:38,980 : INFO : resetting layer weights\n",
      "2019-05-14 17:41:39,003 : INFO : training model with 4 workers on 1600 vocabulary and 300 features, using sg=0 hs=0 sample=0.001 negative=5 window=10\n",
      "2019-05-14 17:41:39,486 : INFO : worker thread finished; awaiting finish of 3 more threads\n",
      "2019-05-14 17:41:39,492 : INFO : worker thread finished; awaiting finish of 2 more threads\n",
      "2019-05-14 17:41:39,506 : INFO : worker thread finished; awaiting finish of 1 more threads\n",
      "2019-05-14 17:41:39,511 : INFO : worker thread finished; awaiting finish of 0 more threads\n",
      "2019-05-14 17:41:39,513 : INFO : EPOCH - 1 : training on 589578 raw words (420136 effective words) took 0.5s, 828507 effective words/s\n",
      "2019-05-14 17:41:40,108 : INFO : worker thread finished; awaiting finish of 3 more threads\n",
      "2019-05-14 17:41:40,120 : INFO : worker thread finished; awaiting finish of 2 more threads\n",
      "2019-05-14 17:41:40,126 : INFO : worker thread finished; awaiting finish of 1 more threads\n",
      "2019-05-14 17:41:40,129 : INFO : worker thread finished; awaiting finish of 0 more threads\n",
      "2019-05-14 17:41:40,132 : INFO : EPOCH - 2 : training on 589578 raw words (419944 effective words) took 0.6s, 682318 effective words/s\n",
      "2019-05-14 17:41:40,765 : INFO : worker thread finished; awaiting finish of 3 more threads\n",
      "2019-05-14 17:41:40,773 : INFO : worker thread finished; awaiting finish of 2 more threads\n",
      "2019-05-14 17:41:40,780 : INFO : worker thread finished; awaiting finish of 1 more threads\n",
      "2019-05-14 17:41:40,787 : INFO : worker thread finished; awaiting finish of 0 more threads\n",
      "2019-05-14 17:41:40,790 : INFO : EPOCH - 3 : training on 589578 raw words (419869 effective words) took 0.7s, 644630 effective words/s\n",
      "2019-05-14 17:41:41,322 : INFO : worker thread finished; awaiting finish of 3 more threads\n",
      "2019-05-14 17:41:41,325 : INFO : worker thread finished; awaiting finish of 2 more threads\n",
      "2019-05-14 17:41:41,341 : INFO : worker thread finished; awaiting finish of 1 more threads\n",
      "2019-05-14 17:41:41,344 : INFO : worker thread finished; awaiting finish of 0 more threads\n",
      "2019-05-14 17:41:41,345 : INFO : EPOCH - 4 : training on 589578 raw words (420272 effective words) took 0.6s, 762842 effective words/s\n",
      "2019-05-14 17:41:41,837 : INFO : worker thread finished; awaiting finish of 3 more threads\n",
      "2019-05-14 17:41:41,854 : INFO : worker thread finished; awaiting finish of 2 more threads\n",
      "2019-05-14 17:41:41,858 : INFO : worker thread finished; awaiting finish of 1 more threads\n",
      "2019-05-14 17:41:41,861 : INFO : worker thread finished; awaiting finish of 0 more threads\n",
      "2019-05-14 17:41:41,863 : INFO : EPOCH - 5 : training on 589578 raw words (420301 effective words) took 0.5s, 817873 effective words/s\n",
      "2019-05-14 17:41:41,866 : INFO : training on a 2947890 raw words (2100522 effective words) took 2.9s, 734062 effective words/s\n",
      "2019-05-14 17:41:41,869 : INFO : precomputing L2-norms of word weight vectors\n",
      "2019-05-14 17:41:41,872 : INFO : saving Word2Vec object under model_and_visualization/300features_40minwords_10context, separately None\n",
      "2019-05-14 17:41:41,875 : INFO : not storing attribute vectors_norm\n",
      "2019-05-14 17:41:41,878 : INFO : not storing attribute cum_table\n",
      "2019-05-14 17:41:41,880 : WARNING : this function is deprecated, use smart_open.open instead\n",
      "2019-05-14 17:41:41,895 : INFO : saved model_and_visualization/300features_40minwords_10context\n"
     ]
    },
    {
     "name": "stdout",
     "output_type": "stream",
     "text": [
      "Kappa:  0.0\n",
      "Performing sentence and word tokenizing which will be used for word2vec\n"
     ]
    },
    {
     "name": "stderr",
     "output_type": "stream",
     "text": [
      "2019-05-14 17:42:05,810 : INFO : collecting all words and their counts\n",
      "2019-05-14 17:42:05,812 : INFO : PROGRESS: at sentence #0, processed 0 words, keeping 0 word types\n",
      "2019-05-14 17:42:05,837 : INFO : PROGRESS: at sentence #10000, processed 81672 words, keeping 6991 word types\n",
      "2019-05-14 17:42:05,861 : INFO : PROGRESS: at sentence #20000, processed 162426 words, keeping 10538 word types\n",
      "2019-05-14 17:42:05,884 : INFO : PROGRESS: at sentence #30000, processed 242609 words, keeping 13193 word types\n",
      "2019-05-14 17:42:05,910 : INFO : PROGRESS: at sentence #40000, processed 328092 words, keeping 15987 word types\n",
      "2019-05-14 17:42:05,934 : INFO : PROGRESS: at sentence #50000, processed 413852 words, keeping 18255 word types\n",
      "2019-05-14 17:42:05,958 : INFO : PROGRESS: at sentence #60000, processed 498914 words, keeping 20123 word types\n",
      "2019-05-14 17:42:05,983 : INFO : collected 22606 word types from a corpus of 587333 raw words and 69958 sentences\n",
      "2019-05-14 17:42:05,985 : INFO : Loading a fresh vocabulary\n",
      "2019-05-14 17:42:06,004 : INFO : effective_min_count=40 retains 1603 unique words (7% of original 22606, drops 21003)\n",
      "2019-05-14 17:42:06,006 : INFO : effective_min_count=40 leaves 513232 word corpus (87% of original 587333, drops 74101)\n",
      "2019-05-14 17:42:06,012 : INFO : deleting the raw counts dictionary of 22606 items\n",
      "2019-05-14 17:42:06,015 : INFO : sample=0.001 downsamples 77 most-common words\n",
      "2019-05-14 17:42:06,017 : INFO : downsampling leaves estimated 418618 word corpus (81.6% of prior 513232)\n",
      "2019-05-14 17:42:06,022 : INFO : estimated required memory for 1603 words and 300 dimensions: 4648700 bytes\n",
      "2019-05-14 17:42:06,024 : INFO : resetting layer weights\n",
      "2019-05-14 17:42:06,043 : INFO : training model with 4 workers on 1603 vocabulary and 300 features, using sg=0 hs=0 sample=0.001 negative=5 window=10\n",
      "2019-05-14 17:42:06,524 : INFO : worker thread finished; awaiting finish of 3 more threads\n",
      "2019-05-14 17:42:06,527 : INFO : worker thread finished; awaiting finish of 2 more threads\n",
      "2019-05-14 17:42:06,539 : INFO : worker thread finished; awaiting finish of 1 more threads\n",
      "2019-05-14 17:42:06,543 : INFO : worker thread finished; awaiting finish of 0 more threads\n",
      "2019-05-14 17:42:06,546 : INFO : EPOCH - 1 : training on 587333 raw words (418654 effective words) took 0.5s, 838646 effective words/s\n",
      "2019-05-14 17:42:07,006 : INFO : worker thread finished; awaiting finish of 3 more threads\n",
      "2019-05-14 17:42:07,022 : INFO : worker thread finished; awaiting finish of 2 more threads\n",
      "2019-05-14 17:42:07,025 : INFO : worker thread finished; awaiting finish of 1 more threads\n",
      "2019-05-14 17:42:07,028 : INFO : worker thread finished; awaiting finish of 0 more threads\n",
      "2019-05-14 17:42:07,030 : INFO : EPOCH - 2 : training on 587333 raw words (418821 effective words) took 0.5s, 871687 effective words/s\n",
      "2019-05-14 17:42:07,523 : INFO : worker thread finished; awaiting finish of 3 more threads\n",
      "2019-05-14 17:42:07,534 : INFO : worker thread finished; awaiting finish of 2 more threads\n",
      "2019-05-14 17:42:07,539 : INFO : worker thread finished; awaiting finish of 1 more threads\n",
      "2019-05-14 17:42:07,543 : INFO : worker thread finished; awaiting finish of 0 more threads\n",
      "2019-05-14 17:42:07,546 : INFO : EPOCH - 3 : training on 587333 raw words (418441 effective words) took 0.5s, 817266 effective words/s\n",
      "2019-05-14 17:42:08,018 : INFO : worker thread finished; awaiting finish of 3 more threads\n",
      "2019-05-14 17:42:08,022 : INFO : worker thread finished; awaiting finish of 2 more threads\n",
      "2019-05-14 17:42:08,030 : INFO : worker thread finished; awaiting finish of 1 more threads\n",
      "2019-05-14 17:42:08,034 : INFO : worker thread finished; awaiting finish of 0 more threads\n",
      "2019-05-14 17:42:08,036 : INFO : EPOCH - 4 : training on 587333 raw words (418923 effective words) took 0.5s, 860582 effective words/s\n",
      "2019-05-14 17:42:08,550 : INFO : worker thread finished; awaiting finish of 3 more threads\n",
      "2019-05-14 17:42:08,553 : INFO : worker thread finished; awaiting finish of 2 more threads\n",
      "2019-05-14 17:42:08,559 : INFO : worker thread finished; awaiting finish of 1 more threads\n",
      "2019-05-14 17:42:08,562 : INFO : worker thread finished; awaiting finish of 0 more threads\n",
      "2019-05-14 17:42:08,563 : INFO : EPOCH - 5 : training on 587333 raw words (418921 effective words) took 0.5s, 803690 effective words/s\n",
      "2019-05-14 17:42:08,565 : INFO : training on a 2936665 raw words (2093760 effective words) took 2.5s, 830752 effective words/s\n",
      "2019-05-14 17:42:08,567 : INFO : precomputing L2-norms of word weight vectors\n",
      "2019-05-14 17:42:08,570 : INFO : saving Word2Vec object under model_and_visualization/300features_40minwords_10context, separately None\n",
      "2019-05-14 17:42:08,572 : INFO : not storing attribute vectors_norm\n",
      "2019-05-14 17:42:08,574 : INFO : not storing attribute cum_table\n",
      "2019-05-14 17:42:08,576 : WARNING : this function is deprecated, use smart_open.open instead\n",
      "2019-05-14 17:42:08,595 : INFO : saved model_and_visualization/300features_40minwords_10context\n"
     ]
    },
    {
     "name": "stdout",
     "output_type": "stream",
     "text": [
      "Kappa:  0.0\n",
      "Performing sentence and word tokenizing which will be used for word2vec\n"
     ]
    },
    {
     "name": "stderr",
     "output_type": "stream",
     "text": [
      "2019-05-14 17:42:33,620 : INFO : collecting all words and their counts\n",
      "2019-05-14 17:42:33,621 : INFO : PROGRESS: at sentence #0, processed 0 words, keeping 0 word types\n",
      "2019-05-14 17:42:33,643 : INFO : PROGRESS: at sentence #10000, processed 80732 words, keeping 6876 word types\n",
      "2019-05-14 17:42:33,666 : INFO : PROGRESS: at sentence #20000, processed 162308 words, keeping 10455 word types\n",
      "2019-05-14 17:42:33,687 : INFO : PROGRESS: at sentence #30000, processed 241385 words, keeping 13044 word types\n",
      "2019-05-14 17:42:33,714 : INFO : PROGRESS: at sentence #40000, processed 326782 words, keeping 15894 word types\n",
      "2019-05-14 17:42:33,738 : INFO : PROGRESS: at sentence #50000, processed 412943 words, keeping 18198 word types\n",
      "2019-05-14 17:42:33,760 : INFO : PROGRESS: at sentence #60000, processed 498439 words, keeping 20138 word types\n",
      "2019-05-14 17:42:33,796 : INFO : PROGRESS: at sentence #70000, processed 587391 words, keeping 22647 word types\n",
      "2019-05-14 17:42:33,798 : INFO : collected 22681 word types from a corpus of 588863 raw words and 70149 sentences\n",
      "2019-05-14 17:42:33,799 : INFO : Loading a fresh vocabulary\n",
      "2019-05-14 17:42:33,811 : INFO : effective_min_count=40 retains 1596 unique words (7% of original 22681, drops 21085)\n",
      "2019-05-14 17:42:33,816 : INFO : effective_min_count=40 leaves 514266 word corpus (87% of original 588863, drops 74597)\n",
      "2019-05-14 17:42:33,822 : INFO : deleting the raw counts dictionary of 22681 items\n",
      "2019-05-14 17:42:33,825 : INFO : sample=0.001 downsamples 77 most-common words\n",
      "2019-05-14 17:42:33,827 : INFO : downsampling leaves estimated 419159 word corpus (81.5% of prior 514266)\n",
      "2019-05-14 17:42:33,833 : INFO : estimated required memory for 1596 words and 300 dimensions: 4628400 bytes\n",
      "2019-05-14 17:42:33,835 : INFO : resetting layer weights\n",
      "2019-05-14 17:42:33,855 : INFO : training model with 4 workers on 1596 vocabulary and 300 features, using sg=0 hs=0 sample=0.001 negative=5 window=10\n",
      "2019-05-14 17:42:34,363 : INFO : worker thread finished; awaiting finish of 3 more threads\n",
      "2019-05-14 17:42:34,366 : INFO : worker thread finished; awaiting finish of 2 more threads\n",
      "2019-05-14 17:42:34,368 : INFO : worker thread finished; awaiting finish of 1 more threads\n",
      "2019-05-14 17:42:34,374 : INFO : worker thread finished; awaiting finish of 0 more threads\n",
      "2019-05-14 17:42:34,375 : INFO : EPOCH - 1 : training on 588863 raw words (418617 effective words) took 0.5s, 809941 effective words/s\n",
      "2019-05-14 17:42:34,863 : INFO : worker thread finished; awaiting finish of 3 more threads\n",
      "2019-05-14 17:42:34,867 : INFO : worker thread finished; awaiting finish of 2 more threads\n",
      "2019-05-14 17:42:34,883 : INFO : worker thread finished; awaiting finish of 1 more threads\n",
      "2019-05-14 17:42:34,888 : INFO : worker thread finished; awaiting finish of 0 more threads\n",
      "2019-05-14 17:42:34,890 : INFO : EPOCH - 2 : training on 588863 raw words (418979 effective words) took 0.5s, 819873 effective words/s\n",
      "2019-05-14 17:42:35,413 : INFO : worker thread finished; awaiting finish of 3 more threads\n",
      "2019-05-14 17:42:35,416 : INFO : worker thread finished; awaiting finish of 2 more threads\n",
      "2019-05-14 17:42:35,428 : INFO : worker thread finished; awaiting finish of 1 more threads\n",
      "2019-05-14 17:42:35,430 : INFO : worker thread finished; awaiting finish of 0 more threads\n",
      "2019-05-14 17:42:35,432 : INFO : EPOCH - 3 : training on 588863 raw words (419334 effective words) took 0.5s, 780489 effective words/s\n",
      "2019-05-14 17:42:35,946 : INFO : worker thread finished; awaiting finish of 3 more threads\n",
      "2019-05-14 17:42:35,954 : INFO : worker thread finished; awaiting finish of 2 more threads\n",
      "2019-05-14 17:42:35,969 : INFO : worker thread finished; awaiting finish of 1 more threads\n",
      "2019-05-14 17:42:35,974 : INFO : worker thread finished; awaiting finish of 0 more threads\n",
      "2019-05-14 17:42:35,976 : INFO : EPOCH - 4 : training on 588863 raw words (419374 effective words) took 0.5s, 777850 effective words/s\n",
      "2019-05-14 17:42:36,478 : INFO : worker thread finished; awaiting finish of 3 more threads\n",
      "2019-05-14 17:42:36,484 : INFO : worker thread finished; awaiting finish of 2 more threads\n",
      "2019-05-14 17:42:36,497 : INFO : worker thread finished; awaiting finish of 1 more threads\n",
      "2019-05-14 17:42:36,500 : INFO : worker thread finished; awaiting finish of 0 more threads\n",
      "2019-05-14 17:42:36,502 : INFO : EPOCH - 5 : training on 588863 raw words (419178 effective words) took 0.5s, 804297 effective words/s\n",
      "2019-05-14 17:42:36,504 : INFO : training on a 2944315 raw words (2095482 effective words) took 2.6s, 791492 effective words/s\n",
      "2019-05-14 17:42:36,506 : INFO : precomputing L2-norms of word weight vectors\n",
      "2019-05-14 17:42:36,510 : INFO : saving Word2Vec object under model_and_visualization/300features_40minwords_10context, separately None\n",
      "2019-05-14 17:42:36,512 : INFO : not storing attribute vectors_norm\n",
      "2019-05-14 17:42:36,514 : INFO : not storing attribute cum_table\n",
      "2019-05-14 17:42:36,516 : WARNING : this function is deprecated, use smart_open.open instead\n",
      "2019-05-14 17:42:36,530 : INFO : saved model_and_visualization/300features_40minwords_10context\n"
     ]
    },
    {
     "name": "stdout",
     "output_type": "stream",
     "text": [
      "Kappa:  0.0\n"
     ]
    }
   ],
   "source": [
    "from sklearn.externals import joblib\n",
    "\n",
    "#Training with Word2Vec\n",
    "from sklearn.dummy import DummyRegressor\n",
    "cv = KFold(n_splits=5,shuffle=True)\n",
    "results = []\n",
    "\n",
    "for traincv, testcv in cv.split(X_all):\n",
    "        X_test, X_train, y_test, y_train = X_all.iloc[testcv], X_all.iloc[traincv], y_all.iloc[testcv], y_all.iloc[traincv]\n",
    "                \n",
    "        train_essays = X_train['essay']\n",
    "        test_essays = X_test['essay']\n",
    "        \n",
    "        sentences = []\n",
    "        # Performing sentence and word tokenizing which will be used for word2vec\n",
    "        print (\"Performing sentence and word tokenizing which will be used for word2vec\")\n",
    "\n",
    "        for essay in train_essays:\n",
    "            # Obtaining all sentences from the training essays.\n",
    "            sentences += helper.essay_to_sentences(unicode(essay,\"utf-8\",errors='ignore'), remove_stopwords = True)\n",
    "\n",
    "        #Log steps completed.   \n",
    "        logging.basicConfig(format='%(asctime)s : %(levelname)s : %(message)s', level=logging.INFO)\n",
    "\n",
    "        # Initializing variables for word2vec model.\n",
    "        num_features = 300 \n",
    "        min_word_count = 40\n",
    "        num_workers = 4\n",
    "        context = 10\n",
    "        downsampling = 1e-3\n",
    "\n",
    "        #print (\"Training w2v model...\") \n",
    "        model = word2vec.Word2Vec(sentences, workers=num_workers, size=num_features, min_count = min_word_count, window = context, sample = downsampling)\n",
    "\n",
    "        model.init_sims(replace=True)\n",
    "        \n",
    "        # Save the model. This model is used to generated PCA in Data_Exploration.ipynb\n",
    "        model_name = \"model_and_visualization/300features_40minwords_10context\"\n",
    "        model.save(model_name)\n",
    "\n",
    "        #print (\"Creating average feature vecs for Training Essays\")\n",
    "        clean_train_essays = []\n",
    "      \n",
    "        # Generate training and testing data word vectors.\n",
    "        for essay_v in train_essays:\n",
    "            clean_train_essays.append( helper.essay_to_wordlist( essay_v, remove_stopwords=True ))\n",
    "        trainDataVecs = helper.getAvgFeatureVecs( clean_train_essays, model, num_features )\n",
    "        \n",
    "        clean_test_essays = []\n",
    "        for essay_v in test_essays:\n",
    "            clean_test_essays.append( helper.essay_to_wordlist( essay_v, remove_stopwords=True ))\n",
    "        testDataVecs = helper.getAvgFeatureVecs( clean_test_essays, model, num_features )\n",
    "        \n",
    "        # Obtain feature vectors of the already generated heuristic features.\n",
    "        myOwnTrainFeatureVec = np.array(X_train[selected_features])\n",
    "        myOwnTestFeatureVec = np.array(X_test[selected_features])\n",
    "        \n",
    "        # Combine them with the word vectors generated by word2vec model.\n",
    "        trainDataVecs = np.concatenate((trainDataVecs,myOwnTrainFeatureVec),1)\n",
    "        testDataVecs = np.concatenate((testDataVecs,myOwnTestFeatureVec),1)\n",
    "        \n",
    "        # Initialize the learning model, fit the data and predict the results for testing data.\n",
    "        model =  DummyRegressor(strategy='median')\n",
    "        model.fit(trainDataVecs,y_train)\n",
    "        start = time()\n",
    "        y_pred = model.predict(testDataVecs)\n",
    "        end = time()\n",
    "\n",
    "        # Evaluate the model on the evaluation metric. \"Quadratic mean averaged Kappa\"\n",
    "        result = kappa(y_test.values,np.around(y_pred,decimals=2),weights='quadratic')\n",
    "        print \"Kappa: \", result\n",
    "        results.append(result)"
   ]
  },
  {
   "cell_type": "markdown",
   "metadata": {},
   "source": [
    "### Dummy Regressor obtained a K => The model is able to learn."
   ]
  },
  {
   "cell_type": "code",
   "execution_count": 16,
   "metadata": {},
   "outputs": [
    {
     "name": "stdout",
     "output_type": "stream",
     "text": [
      "Performing sentence and word tokenizing which will be used for word2vec\n"
     ]
    },
    {
     "name": "stderr",
     "output_type": "stream",
     "text": [
      "2019-05-14 20:20:08,421 : INFO : collecting all words and their counts\n",
      "2019-05-14 20:20:08,423 : INFO : PROGRESS: at sentence #0, processed 0 words, keeping 0 word types\n",
      "2019-05-14 20:20:08,455 : INFO : PROGRESS: at sentence #10000, processed 81704 words, keeping 6948 word types\n",
      "2019-05-14 20:20:08,490 : INFO : PROGRESS: at sentence #20000, processed 163208 words, keeping 10471 word types\n",
      "2019-05-14 20:20:08,537 : INFO : PROGRESS: at sentence #30000, processed 243262 words, keeping 13010 word types\n",
      "2019-05-14 20:20:08,568 : INFO : PROGRESS: at sentence #40000, processed 329379 words, keeping 15865 word types\n",
      "2019-05-14 20:20:08,598 : INFO : PROGRESS: at sentence #50000, processed 415452 words, keeping 18083 word types\n",
      "2019-05-14 20:20:08,628 : INFO : PROGRESS: at sentence #60000, processed 500749 words, keeping 19998 word types\n",
      "2019-05-14 20:20:08,661 : INFO : collected 22482 word types from a corpus of 585593 raw words and 69566 sentences\n",
      "2019-05-14 20:20:08,663 : INFO : Loading a fresh vocabulary\n",
      "2019-05-14 20:20:08,678 : INFO : effective_min_count=40 retains 1592 unique words (7% of original 22482, drops 20890)\n",
      "2019-05-14 20:20:08,680 : INFO : effective_min_count=40 leaves 511511 word corpus (87% of original 585593, drops 74082)\n",
      "2019-05-14 20:20:08,688 : INFO : deleting the raw counts dictionary of 22482 items\n",
      "2019-05-14 20:20:08,692 : INFO : sample=0.001 downsamples 77 most-common words\n",
      "2019-05-14 20:20:08,694 : INFO : downsampling leaves estimated 416841 word corpus (81.5% of prior 511511)\n",
      "2019-05-14 20:20:08,700 : INFO : estimated required memory for 1592 words and 300 dimensions: 4616800 bytes\n",
      "2019-05-14 20:20:08,702 : INFO : resetting layer weights\n",
      "2019-05-14 20:20:08,724 : INFO : training model with 4 workers on 1592 vocabulary and 300 features, using sg=0 hs=0 sample=0.001 negative=5 window=10\n",
      "2019-05-14 20:20:09,293 : INFO : worker thread finished; awaiting finish of 3 more threads\n",
      "2019-05-14 20:20:09,296 : INFO : worker thread finished; awaiting finish of 2 more threads\n",
      "2019-05-14 20:20:09,305 : INFO : worker thread finished; awaiting finish of 1 more threads\n",
      "2019-05-14 20:20:09,314 : INFO : worker thread finished; awaiting finish of 0 more threads\n",
      "2019-05-14 20:20:09,316 : INFO : EPOCH - 1 : training on 585593 raw words (416848 effective words) took 0.6s, 708266 effective words/s\n",
      "2019-05-14 20:20:09,914 : INFO : worker thread finished; awaiting finish of 3 more threads\n",
      "2019-05-14 20:20:09,922 : INFO : worker thread finished; awaiting finish of 2 more threads\n",
      "2019-05-14 20:20:09,926 : INFO : worker thread finished; awaiting finish of 1 more threads\n",
      "2019-05-14 20:20:09,930 : INFO : worker thread finished; awaiting finish of 0 more threads\n",
      "2019-05-14 20:20:09,932 : INFO : EPOCH - 2 : training on 585593 raw words (416796 effective words) took 0.6s, 681467 effective words/s\n",
      "2019-05-14 20:20:10,470 : INFO : worker thread finished; awaiting finish of 3 more threads\n",
      "2019-05-14 20:20:10,482 : INFO : worker thread finished; awaiting finish of 2 more threads\n",
      "2019-05-14 20:20:10,486 : INFO : worker thread finished; awaiting finish of 1 more threads\n",
      "2019-05-14 20:20:10,487 : INFO : worker thread finished; awaiting finish of 0 more threads\n",
      "2019-05-14 20:20:10,489 : INFO : EPOCH - 3 : training on 585593 raw words (416905 effective words) took 0.6s, 753270 effective words/s\n",
      "2019-05-14 20:20:10,929 : INFO : worker thread finished; awaiting finish of 3 more threads\n",
      "2019-05-14 20:20:10,937 : INFO : worker thread finished; awaiting finish of 2 more threads\n",
      "2019-05-14 20:20:10,939 : INFO : worker thread finished; awaiting finish of 1 more threads\n",
      "2019-05-14 20:20:10,943 : INFO : worker thread finished; awaiting finish of 0 more threads\n",
      "2019-05-14 20:20:10,945 : INFO : EPOCH - 4 : training on 585593 raw words (416977 effective words) took 0.5s, 924809 effective words/s\n",
      "2019-05-14 20:20:11,399 : INFO : worker thread finished; awaiting finish of 3 more threads\n",
      "2019-05-14 20:20:11,401 : INFO : worker thread finished; awaiting finish of 2 more threads\n",
      "2019-05-14 20:20:11,404 : INFO : worker thread finished; awaiting finish of 1 more threads\n",
      "2019-05-14 20:20:11,408 : INFO : worker thread finished; awaiting finish of 0 more threads\n",
      "2019-05-14 20:20:11,410 : INFO : EPOCH - 5 : training on 585593 raw words (416743 effective words) took 0.5s, 902111 effective words/s\n",
      "2019-05-14 20:20:11,411 : INFO : training on a 2927965 raw words (2084269 effective words) took 2.7s, 776070 effective words/s\n",
      "2019-05-14 20:20:11,414 : INFO : precomputing L2-norms of word weight vectors\n",
      "2019-05-14 20:20:11,416 : INFO : storing 1592x300 projection weights into linearword2vecmodel.bin\n",
      "2019-05-14 20:20:11,418 : WARNING : this function is deprecated, use smart_open.open instead\n"
     ]
    },
    {
     "name": "stdout",
     "output_type": "stream",
     "text": [
      "Kappa:  0.9379441830493491\n",
      "Performing sentence and word tokenizing which will be used for word2vec\n"
     ]
    },
    {
     "name": "stderr",
     "output_type": "stream",
     "text": [
      "2019-05-14 20:20:39,425 : INFO : collecting all words and their counts\n",
      "2019-05-14 20:20:39,428 : INFO : PROGRESS: at sentence #0, processed 0 words, keeping 0 word types\n",
      "2019-05-14 20:20:39,455 : INFO : PROGRESS: at sentence #10000, processed 81201 words, keeping 6913 word types\n",
      "2019-05-14 20:20:39,501 : INFO : PROGRESS: at sentence #20000, processed 161912 words, keeping 10403 word types\n",
      "2019-05-14 20:20:39,527 : INFO : PROGRESS: at sentence #30000, processed 241889 words, keeping 13066 word types\n",
      "2019-05-14 20:20:39,563 : INFO : PROGRESS: at sentence #40000, processed 326335 words, keeping 15875 word types\n",
      "2019-05-14 20:20:39,595 : INFO : PROGRESS: at sentence #50000, processed 412334 words, keeping 18147 word types\n",
      "2019-05-14 20:20:39,624 : INFO : PROGRESS: at sentence #60000, processed 498283 words, keeping 20151 word types\n",
      "2019-05-14 20:20:39,655 : INFO : collected 22633 word types from a corpus of 587155 raw words and 69973 sentences\n",
      "2019-05-14 20:20:39,656 : INFO : Loading a fresh vocabulary\n",
      "2019-05-14 20:20:39,677 : INFO : effective_min_count=40 retains 1592 unique words (7% of original 22633, drops 21041)\n",
      "2019-05-14 20:20:39,679 : INFO : effective_min_count=40 leaves 512444 word corpus (87% of original 587155, drops 74711)\n",
      "2019-05-14 20:20:39,686 : INFO : deleting the raw counts dictionary of 22633 items\n",
      "2019-05-14 20:20:39,690 : INFO : sample=0.001 downsamples 75 most-common words\n",
      "2019-05-14 20:20:39,692 : INFO : downsampling leaves estimated 417361 word corpus (81.4% of prior 512444)\n",
      "2019-05-14 20:20:39,698 : INFO : estimated required memory for 1592 words and 300 dimensions: 4616800 bytes\n",
      "2019-05-14 20:20:39,700 : INFO : resetting layer weights\n",
      "2019-05-14 20:20:39,726 : INFO : training model with 4 workers on 1592 vocabulary and 300 features, using sg=0 hs=0 sample=0.001 negative=5 window=10\n",
      "2019-05-14 20:20:40,293 : INFO : worker thread finished; awaiting finish of 3 more threads\n",
      "2019-05-14 20:20:40,306 : INFO : worker thread finished; awaiting finish of 2 more threads\n",
      "2019-05-14 20:20:40,313 : INFO : worker thread finished; awaiting finish of 1 more threads\n",
      "2019-05-14 20:20:40,316 : INFO : worker thread finished; awaiting finish of 0 more threads\n",
      "2019-05-14 20:20:40,318 : INFO : EPOCH - 1 : training on 587155 raw words (417222 effective words) took 0.6s, 710436 effective words/s\n",
      "2019-05-14 20:20:40,879 : INFO : worker thread finished; awaiting finish of 3 more threads\n",
      "2019-05-14 20:20:40,883 : INFO : worker thread finished; awaiting finish of 2 more threads\n",
      "2019-05-14 20:20:40,888 : INFO : worker thread finished; awaiting finish of 1 more threads\n",
      "2019-05-14 20:20:40,891 : INFO : worker thread finished; awaiting finish of 0 more threads\n",
      "2019-05-14 20:20:40,894 : INFO : EPOCH - 2 : training on 587155 raw words (417582 effective words) took 0.6s, 731728 effective words/s\n",
      "2019-05-14 20:20:41,493 : INFO : worker thread finished; awaiting finish of 3 more threads\n",
      "2019-05-14 20:20:41,506 : INFO : worker thread finished; awaiting finish of 2 more threads\n",
      "2019-05-14 20:20:41,512 : INFO : worker thread finished; awaiting finish of 1 more threads\n",
      "2019-05-14 20:20:41,514 : INFO : worker thread finished; awaiting finish of 0 more threads\n",
      "2019-05-14 20:20:41,517 : INFO : EPOCH - 3 : training on 587155 raw words (417363 effective words) took 0.6s, 676334 effective words/s\n",
      "2019-05-14 20:20:42,035 : INFO : worker thread finished; awaiting finish of 3 more threads\n",
      "2019-05-14 20:20:42,042 : INFO : worker thread finished; awaiting finish of 2 more threads\n",
      "2019-05-14 20:20:42,056 : INFO : worker thread finished; awaiting finish of 1 more threads\n",
      "2019-05-14 20:20:42,058 : INFO : worker thread finished; awaiting finish of 0 more threads\n",
      "2019-05-14 20:20:42,060 : INFO : EPOCH - 4 : training on 587155 raw words (417374 effective words) took 0.5s, 775494 effective words/s\n",
      "2019-05-14 20:20:42,585 : INFO : worker thread finished; awaiting finish of 3 more threads\n",
      "2019-05-14 20:20:42,598 : INFO : worker thread finished; awaiting finish of 2 more threads\n",
      "2019-05-14 20:20:42,607 : INFO : worker thread finished; awaiting finish of 1 more threads\n",
      "2019-05-14 20:20:42,609 : INFO : worker thread finished; awaiting finish of 0 more threads\n",
      "2019-05-14 20:20:42,612 : INFO : EPOCH - 5 : training on 587155 raw words (417526 effective words) took 0.5s, 763887 effective words/s\n",
      "2019-05-14 20:20:42,614 : INFO : training on a 2935775 raw words (2087067 effective words) took 2.9s, 723095 effective words/s\n",
      "2019-05-14 20:20:42,617 : INFO : precomputing L2-norms of word weight vectors\n",
      "2019-05-14 20:20:42,622 : INFO : storing 1592x300 projection weights into linearword2vecmodel.bin\n",
      "2019-05-14 20:20:42,624 : WARNING : this function is deprecated, use smart_open.open instead\n"
     ]
    },
    {
     "name": "stdout",
     "output_type": "stream",
     "text": [
      "Kappa:  0.9304312341303458\n",
      "Performing sentence and word tokenizing which will be used for word2vec\n"
     ]
    },
    {
     "name": "stderr",
     "output_type": "stream",
     "text": [
      "2019-05-14 20:21:09,690 : INFO : collecting all words and their counts\n",
      "2019-05-14 20:21:09,692 : INFO : PROGRESS: at sentence #0, processed 0 words, keeping 0 word types\n",
      "2019-05-14 20:21:09,719 : INFO : PROGRESS: at sentence #10000, processed 80602 words, keeping 6853 word types\n",
      "2019-05-14 20:21:09,741 : INFO : PROGRESS: at sentence #20000, processed 161905 words, keeping 10350 word types\n",
      "2019-05-14 20:21:09,764 : INFO : PROGRESS: at sentence #30000, processed 241505 words, keeping 12823 word types\n",
      "2019-05-14 20:21:09,789 : INFO : PROGRESS: at sentence #40000, processed 326303 words, keeping 15667 word types\n",
      "2019-05-14 20:21:09,814 : INFO : PROGRESS: at sentence #50000, processed 412417 words, keeping 17960 word types\n",
      "2019-05-14 20:21:09,840 : INFO : PROGRESS: at sentence #60000, processed 498819 words, keeping 19886 word types\n",
      "2019-05-14 20:21:09,871 : INFO : PROGRESS: at sentence #70000, processed 587200 words, keeping 22402 word types\n",
      "2019-05-14 20:21:09,873 : INFO : collected 22427 word types from a corpus of 588195 raw words and 70110 sentences\n",
      "2019-05-14 20:21:09,875 : INFO : Loading a fresh vocabulary\n",
      "2019-05-14 20:21:09,889 : INFO : effective_min_count=40 retains 1593 unique words (7% of original 22427, drops 20834)\n",
      "2019-05-14 20:21:09,891 : INFO : effective_min_count=40 leaves 514036 word corpus (87% of original 588195, drops 74159)\n",
      "2019-05-14 20:21:09,896 : INFO : deleting the raw counts dictionary of 22427 items\n",
      "2019-05-14 20:21:09,899 : INFO : sample=0.001 downsamples 75 most-common words\n",
      "2019-05-14 20:21:09,901 : INFO : downsampling leaves estimated 418892 word corpus (81.5% of prior 514036)\n",
      "2019-05-14 20:21:09,907 : INFO : estimated required memory for 1593 words and 300 dimensions: 4619700 bytes\n",
      "2019-05-14 20:21:09,908 : INFO : resetting layer weights\n",
      "2019-05-14 20:21:09,928 : INFO : training model with 4 workers on 1593 vocabulary and 300 features, using sg=0 hs=0 sample=0.001 negative=5 window=10\n",
      "2019-05-14 20:21:10,436 : INFO : worker thread finished; awaiting finish of 3 more threads\n",
      "2019-05-14 20:21:10,447 : INFO : worker thread finished; awaiting finish of 2 more threads\n",
      "2019-05-14 20:21:10,457 : INFO : worker thread finished; awaiting finish of 1 more threads\n",
      "2019-05-14 20:21:10,460 : INFO : worker thread finished; awaiting finish of 0 more threads\n",
      "2019-05-14 20:21:10,461 : INFO : EPOCH - 1 : training on 588195 raw words (418564 effective words) took 0.5s, 790483 effective words/s\n",
      "2019-05-14 20:21:10,963 : INFO : worker thread finished; awaiting finish of 3 more threads\n",
      "2019-05-14 20:21:10,975 : INFO : worker thread finished; awaiting finish of 2 more threads\n",
      "2019-05-14 20:21:10,980 : INFO : worker thread finished; awaiting finish of 1 more threads\n",
      "2019-05-14 20:21:10,982 : INFO : worker thread finished; awaiting finish of 0 more threads\n",
      "2019-05-14 20:21:10,984 : INFO : EPOCH - 2 : training on 588195 raw words (418952 effective words) took 0.5s, 806794 effective words/s\n",
      "2019-05-14 20:21:11,530 : INFO : worker thread finished; awaiting finish of 3 more threads\n",
      "2019-05-14 20:21:11,533 : INFO : worker thread finished; awaiting finish of 2 more threads\n",
      "2019-05-14 20:21:11,544 : INFO : worker thread finished; awaiting finish of 1 more threads\n",
      "2019-05-14 20:21:11,547 : INFO : worker thread finished; awaiting finish of 0 more threads\n",
      "2019-05-14 20:21:11,548 : INFO : EPOCH - 3 : training on 588195 raw words (418998 effective words) took 0.6s, 749250 effective words/s\n",
      "2019-05-14 20:21:12,109 : INFO : worker thread finished; awaiting finish of 3 more threads\n",
      "2019-05-14 20:21:12,122 : INFO : worker thread finished; awaiting finish of 2 more threads\n",
      "2019-05-14 20:21:12,124 : INFO : worker thread finished; awaiting finish of 1 more threads\n",
      "2019-05-14 20:21:12,130 : INFO : worker thread finished; awaiting finish of 0 more threads\n",
      "2019-05-14 20:21:12,131 : INFO : EPOCH - 4 : training on 588195 raw words (419051 effective words) took 0.6s, 724658 effective words/s\n",
      "2019-05-14 20:21:12,647 : INFO : worker thread finished; awaiting finish of 3 more threads\n",
      "2019-05-14 20:21:12,652 : INFO : worker thread finished; awaiting finish of 2 more threads\n",
      "2019-05-14 20:21:12,660 : INFO : worker thread finished; awaiting finish of 1 more threads\n",
      "2019-05-14 20:21:12,663 : INFO : worker thread finished; awaiting finish of 0 more threads\n",
      "2019-05-14 20:21:12,665 : INFO : EPOCH - 5 : training on 588195 raw words (419091 effective words) took 0.5s, 791303 effective words/s\n",
      "2019-05-14 20:21:12,668 : INFO : training on a 2940975 raw words (2094656 effective words) took 2.7s, 764949 effective words/s\n",
      "2019-05-14 20:21:12,671 : INFO : precomputing L2-norms of word weight vectors\n",
      "2019-05-14 20:21:12,674 : INFO : storing 1593x300 projection weights into linearword2vecmodel.bin\n",
      "2019-05-14 20:21:12,676 : WARNING : this function is deprecated, use smart_open.open instead\n"
     ]
    },
    {
     "name": "stdout",
     "output_type": "stream",
     "text": [
      "Kappa:  0.9318724424016056\n",
      "Performing sentence and word tokenizing which will be used for word2vec\n"
     ]
    },
    {
     "name": "stderr",
     "output_type": "stream",
     "text": [
      "2019-05-14 20:21:38,490 : INFO : collecting all words and their counts\n",
      "2019-05-14 20:21:38,492 : INFO : PROGRESS: at sentence #0, processed 0 words, keeping 0 word types\n",
      "2019-05-14 20:21:38,516 : INFO : PROGRESS: at sentence #10000, processed 80924 words, keeping 7023 word types\n",
      "2019-05-14 20:21:38,539 : INFO : PROGRESS: at sentence #20000, processed 161628 words, keeping 10459 word types\n",
      "2019-05-14 20:21:38,564 : INFO : PROGRESS: at sentence #30000, processed 242501 words, keeping 13184 word types\n",
      "2019-05-14 20:21:38,588 : INFO : PROGRESS: at sentence #40000, processed 327665 words, keeping 15941 word types\n",
      "2019-05-14 20:21:38,613 : INFO : PROGRESS: at sentence #50000, processed 412405 words, keeping 18189 word types\n",
      "2019-05-14 20:21:38,637 : INFO : PROGRESS: at sentence #60000, processed 497917 words, keeping 20050 word types\n",
      "2019-05-14 20:21:38,667 : INFO : PROGRESS: at sentence #70000, processed 585743 words, keeping 22549 word types\n",
      "2019-05-14 20:21:38,671 : INFO : collected 22668 word types from a corpus of 591945 raw words and 70691 sentences\n",
      "2019-05-14 20:21:38,673 : INFO : Loading a fresh vocabulary\n",
      "2019-05-14 20:21:38,691 : INFO : effective_min_count=40 retains 1614 unique words (7% of original 22668, drops 21054)\n",
      "2019-05-14 20:21:38,693 : INFO : effective_min_count=40 leaves 517766 word corpus (87% of original 591945, drops 74179)\n",
      "2019-05-14 20:21:38,699 : INFO : deleting the raw counts dictionary of 22668 items\n",
      "2019-05-14 20:21:38,701 : INFO : sample=0.001 downsamples 77 most-common words\n",
      "2019-05-14 20:21:38,703 : INFO : downsampling leaves estimated 422319 word corpus (81.6% of prior 517766)\n",
      "2019-05-14 20:21:38,707 : INFO : estimated required memory for 1614 words and 300 dimensions: 4680600 bytes\n",
      "2019-05-14 20:21:38,709 : INFO : resetting layer weights\n",
      "2019-05-14 20:21:38,730 : INFO : training model with 4 workers on 1614 vocabulary and 300 features, using sg=0 hs=0 sample=0.001 negative=5 window=10\n",
      "2019-05-14 20:21:39,252 : INFO : worker thread finished; awaiting finish of 3 more threads\n",
      "2019-05-14 20:21:39,255 : INFO : worker thread finished; awaiting finish of 2 more threads\n",
      "2019-05-14 20:21:39,263 : INFO : worker thread finished; awaiting finish of 1 more threads\n",
      "2019-05-14 20:21:39,269 : INFO : worker thread finished; awaiting finish of 0 more threads\n",
      "2019-05-14 20:21:39,271 : INFO : EPOCH - 1 : training on 591945 raw words (422119 effective words) took 0.5s, 784726 effective words/s\n",
      "2019-05-14 20:21:39,799 : INFO : worker thread finished; awaiting finish of 3 more threads\n",
      "2019-05-14 20:21:39,805 : INFO : worker thread finished; awaiting finish of 2 more threads\n",
      "2019-05-14 20:21:39,814 : INFO : worker thread finished; awaiting finish of 1 more threads\n",
      "2019-05-14 20:21:39,822 : INFO : worker thread finished; awaiting finish of 0 more threads\n",
      "2019-05-14 20:21:39,824 : INFO : EPOCH - 2 : training on 591945 raw words (422657 effective words) took 0.5s, 769988 effective words/s\n",
      "2019-05-14 20:21:40,340 : INFO : worker thread finished; awaiting finish of 3 more threads\n",
      "2019-05-14 20:21:40,346 : INFO : worker thread finished; awaiting finish of 2 more threads\n",
      "2019-05-14 20:21:40,354 : INFO : worker thread finished; awaiting finish of 1 more threads\n",
      "2019-05-14 20:21:40,362 : INFO : worker thread finished; awaiting finish of 0 more threads\n",
      "2019-05-14 20:21:40,364 : INFO : EPOCH - 3 : training on 591945 raw words (422384 effective words) took 0.5s, 788841 effective words/s\n",
      "2019-05-14 20:21:40,878 : INFO : worker thread finished; awaiting finish of 3 more threads\n",
      "2019-05-14 20:21:40,883 : INFO : worker thread finished; awaiting finish of 2 more threads\n",
      "2019-05-14 20:21:40,886 : INFO : worker thread finished; awaiting finish of 1 more threads\n",
      "2019-05-14 20:21:40,893 : INFO : worker thread finished; awaiting finish of 0 more threads\n",
      "2019-05-14 20:21:40,895 : INFO : EPOCH - 4 : training on 591945 raw words (421893 effective words) took 0.5s, 799708 effective words/s\n",
      "2019-05-14 20:21:41,440 : INFO : worker thread finished; awaiting finish of 3 more threads\n",
      "2019-05-14 20:21:41,443 : INFO : worker thread finished; awaiting finish of 2 more threads\n",
      "2019-05-14 20:21:41,450 : INFO : worker thread finished; awaiting finish of 1 more threads\n",
      "2019-05-14 20:21:41,457 : INFO : worker thread finished; awaiting finish of 0 more threads\n",
      "2019-05-14 20:21:41,459 : INFO : EPOCH - 5 : training on 591945 raw words (422405 effective words) took 0.6s, 754948 effective words/s\n",
      "2019-05-14 20:21:41,461 : INFO : training on a 2959725 raw words (2111458 effective words) took 2.7s, 773546 effective words/s\n",
      "2019-05-14 20:21:41,463 : INFO : precomputing L2-norms of word weight vectors\n",
      "2019-05-14 20:21:41,467 : INFO : storing 1614x300 projection weights into linearword2vecmodel.bin\n",
      "2019-05-14 20:21:41,469 : WARNING : this function is deprecated, use smart_open.open instead\n"
     ]
    },
    {
     "name": "stdout",
     "output_type": "stream",
     "text": [
      "Kappa:  0.9406293946685834\n",
      "Performing sentence and word tokenizing which will be used for word2vec\n"
     ]
    },
    {
     "name": "stderr",
     "output_type": "stream",
     "text": [
      "2019-05-14 20:22:07,093 : INFO : collecting all words and their counts\n",
      "2019-05-14 20:22:07,095 : INFO : PROGRESS: at sentence #0, processed 0 words, keeping 0 word types\n",
      "2019-05-14 20:22:07,121 : INFO : PROGRESS: at sentence #10000, processed 80981 words, keeping 6965 word types\n",
      "2019-05-14 20:22:07,150 : INFO : PROGRESS: at sentence #20000, processed 161772 words, keeping 10518 word types\n",
      "2019-05-14 20:22:07,191 : INFO : PROGRESS: at sentence #30000, processed 241549 words, keeping 13047 word types\n",
      "2019-05-14 20:22:07,238 : INFO : PROGRESS: at sentence #40000, processed 327151 words, keeping 15937 word types\n",
      "2019-05-14 20:22:07,280 : INFO : PROGRESS: at sentence #50000, processed 413457 words, keeping 18204 word types\n",
      "2019-05-14 20:22:07,319 : INFO : PROGRESS: at sentence #60000, processed 498278 words, keeping 20005 word types\n",
      "2019-05-14 20:22:07,349 : INFO : collected 22475 word types from a corpus of 585120 raw words and 69708 sentences\n",
      "2019-05-14 20:22:07,351 : INFO : Loading a fresh vocabulary\n",
      "2019-05-14 20:22:07,369 : INFO : effective_min_count=40 retains 1584 unique words (7% of original 22475, drops 20891)\n",
      "2019-05-14 20:22:07,370 : INFO : effective_min_count=40 leaves 510698 word corpus (87% of original 585120, drops 74422)\n",
      "2019-05-14 20:22:07,376 : INFO : deleting the raw counts dictionary of 22475 items\n",
      "2019-05-14 20:22:07,378 : INFO : sample=0.001 downsamples 75 most-common words\n",
      "2019-05-14 20:22:07,380 : INFO : downsampling leaves estimated 416206 word corpus (81.5% of prior 510698)\n",
      "2019-05-14 20:22:07,385 : INFO : estimated required memory for 1584 words and 300 dimensions: 4593600 bytes\n",
      "2019-05-14 20:22:07,387 : INFO : resetting layer weights\n",
      "2019-05-14 20:22:07,407 : INFO : training model with 4 workers on 1584 vocabulary and 300 features, using sg=0 hs=0 sample=0.001 negative=5 window=10\n",
      "2019-05-14 20:22:07,945 : INFO : worker thread finished; awaiting finish of 3 more threads\n",
      "2019-05-14 20:22:07,957 : INFO : worker thread finished; awaiting finish of 2 more threads\n",
      "2019-05-14 20:22:07,965 : INFO : worker thread finished; awaiting finish of 1 more threads\n",
      "2019-05-14 20:22:07,969 : INFO : worker thread finished; awaiting finish of 0 more threads\n",
      "2019-05-14 20:22:07,970 : INFO : EPOCH - 1 : training on 585120 raw words (416372 effective words) took 0.6s, 743406 effective words/s\n",
      "2019-05-14 20:22:08,535 : INFO : worker thread finished; awaiting finish of 3 more threads\n",
      "2019-05-14 20:22:08,539 : INFO : worker thread finished; awaiting finish of 2 more threads\n",
      "2019-05-14 20:22:08,548 : INFO : worker thread finished; awaiting finish of 1 more threads\n",
      "2019-05-14 20:22:08,557 : INFO : worker thread finished; awaiting finish of 0 more threads\n",
      "2019-05-14 20:22:08,561 : INFO : EPOCH - 2 : training on 585120 raw words (416026 effective words) took 0.6s, 710318 effective words/s\n",
      "2019-05-14 20:22:09,067 : INFO : worker thread finished; awaiting finish of 3 more threads\n",
      "2019-05-14 20:22:09,070 : INFO : worker thread finished; awaiting finish of 2 more threads\n",
      "2019-05-14 20:22:09,073 : INFO : worker thread finished; awaiting finish of 1 more threads\n",
      "2019-05-14 20:22:09,080 : INFO : worker thread finished; awaiting finish of 0 more threads\n",
      "2019-05-14 20:22:09,082 : INFO : EPOCH - 3 : training on 585120 raw words (416598 effective words) took 0.5s, 807933 effective words/s\n",
      "2019-05-14 20:22:09,618 : INFO : worker thread finished; awaiting finish of 3 more threads\n",
      "2019-05-14 20:22:09,628 : INFO : worker thread finished; awaiting finish of 2 more threads\n",
      "2019-05-14 20:22:09,632 : INFO : worker thread finished; awaiting finish of 1 more threads\n",
      "2019-05-14 20:22:09,640 : INFO : worker thread finished; awaiting finish of 0 more threads\n",
      "2019-05-14 20:22:09,641 : INFO : EPOCH - 4 : training on 585120 raw words (416246 effective words) took 0.6s, 751877 effective words/s\n",
      "2019-05-14 20:22:10,227 : INFO : worker thread finished; awaiting finish of 3 more threads\n",
      "2019-05-14 20:22:10,236 : INFO : worker thread finished; awaiting finish of 2 more threads\n",
      "2019-05-14 20:22:10,243 : INFO : worker thread finished; awaiting finish of 1 more threads\n",
      "2019-05-14 20:22:10,248 : INFO : worker thread finished; awaiting finish of 0 more threads\n",
      "2019-05-14 20:22:10,253 : INFO : EPOCH - 5 : training on 585120 raw words (416185 effective words) took 0.6s, 685059 effective words/s\n",
      "2019-05-14 20:22:10,256 : INFO : training on a 2925600 raw words (2081427 effective words) took 2.8s, 730961 effective words/s\n",
      "2019-05-14 20:22:10,260 : INFO : precomputing L2-norms of word weight vectors\n",
      "2019-05-14 20:22:10,264 : INFO : storing 1584x300 projection weights into linearword2vecmodel.bin\n",
      "2019-05-14 20:22:10,267 : WARNING : this function is deprecated, use smart_open.open instead\n"
     ]
    },
    {
     "name": "stdout",
     "output_type": "stream",
     "text": [
      "Kappa:  0.9346324109200416\n"
     ]
    }
   ],
   "source": [
    "from sklearn.externals import joblib \n",
    "\n",
    "#Training with Word2Vec\n",
    "cv = KFold(n_splits=5,shuffle=True)\n",
    "results = []\n",
    "y_pred_list = []\n",
    "\n",
    "count = 1\n",
    "for traincv, testcv in cv.split(X_all):\n",
    "        X_test, X_train, y_test, y_train = X_all.iloc[testcv], X_all.iloc[traincv], y_all.iloc[testcv], y_all.iloc[traincv]\n",
    "                \n",
    "        train_essays = X_train['essay']\n",
    "        test_essays = X_test['essay']\n",
    "        #print essays\n",
    "        sentences = []\n",
    "\n",
    "        print (\"Performing sentence and word tokenizing which will be used for word2vec\")\n",
    "        \n",
    "        # Performing sentence and word tokenizing which will be used for word2vec\n",
    "        for essay in train_essays:\n",
    "            sentences += helper.essay_to_sentences(unicode(essay,\"utf-8\",errors='ignore'), remove_stopwords = True)\n",
    "    \n",
    "        #Log steps completed.\n",
    "        logging.basicConfig(format='%(asctime)s : %(levelname)s : %(message)s', level=logging.INFO)\n",
    "    \n",
    "        # Initializing variables for word2vec model.\n",
    "        num_features = 300 \n",
    "        min_word_count = 40\n",
    "        num_workers = 4\n",
    "        context = 10\n",
    "        downsampling = 1e-3\n",
    "\n",
    "        #print (\"Training w2v model...\") \n",
    "        model = word2vec.Word2Vec(sentences, workers=num_workers, size=num_features, min_count = min_word_count, window = context, sample = downsampling)\n",
    "\n",
    "        model.init_sims(replace=True)\n",
    "        \n",
    "        # Save the model. This model is used to generated PCA in Data_Exploration.ipynb\n",
    "        model.wv.save_word2vec_format('linearword2vecmodel.bin', binary=True)\n",
    "\n",
    "        #print (\"Creating average feature vecs for Training Essays\")\n",
    "        clean_train_essays = []\n",
    "      \n",
    "        # Generate training and testing data word vectors.\n",
    "        for essay_v in train_essays:\n",
    "            clean_train_essays.append( helper.essay_to_wordlist( essay_v, remove_stopwords=True ))\n",
    "        trainDataVecs = helper.getAvgFeatureVecs( clean_train_essays, model, num_features )\n",
    "        \n",
    "        clean_test_essays = []\n",
    "        for essay_v in test_essays:\n",
    "            clean_test_essays.append( helper.essay_to_wordlist( essay_v, remove_stopwords=True ))\n",
    "        testDataVecs = helper.getAvgFeatureVecs( clean_test_essays, model, num_features )\n",
    "        \n",
    "        # Obtain feature vectors of the already generated heuristic features.\n",
    "        myOwnTrainFeatureVec = np.array(X_train[selected_features])\n",
    "        myOwnTestFeatureVec = np.array(X_test[selected_features])\n",
    "        \n",
    "        # Combine them with the word vectors generated by word2vec model.\n",
    "        trainDataVecs = np.concatenate((trainDataVecs,myOwnTrainFeatureVec),1)\n",
    "        testDataVecs = np.concatenate((testDataVecs,myOwnTestFeatureVec),1)\n",
    "        \n",
    "        # Initialize the learning model, fit the data and predict the results for testing data.\n",
    "        learning_model =  LinearRegression(normalize=True)\n",
    "        learning_model.fit(trainDataVecs,y_train)\n",
    "        \n",
    "        if(count==5):\n",
    "            joblib.dump(learning_model, './model_weights/final_linear.h5')\n",
    "            \n",
    "\n",
    "        start = time()\n",
    "        y_pred = learning_model.predict(testDataVecs)\n",
    "        end = time()\n",
    "\n",
    "        for i in y_pred:\n",
    "            y_pred_list.append(i)\n",
    "        \n",
    "        # Evaluate the model on the evaluation metric. \"Quadratic mean averaged Kappa\"\n",
    "        result = kappa(y_test.values,np.around(y_pred,decimals=2),weights='quadratic')\n",
    "        print \"Kappa: \", result\n",
    "        results.append(result)\n",
    "        \n",
    "        count += 1"
   ]
  },
  {
   "cell_type": "code",
   "execution_count": 27,
   "metadata": {},
   "outputs": [
    {
     "name": "stdout",
     "output_type": "stream",
     "text": [
      "Average Kappa score after a 5-fold cross validation:  0.936\n"
     ]
    }
   ],
   "source": [
    "print \"Average Kappa score after a 5-fold cross validation: \",np.around(np.array(results).mean(),decimals=4)"
   ]
  },
  {
   "cell_type": "markdown",
   "metadata": {},
   "source": [
    "# Final Result : Quadratic Weighted Kappa score : 0.9359"
   ]
  }
 ],
 "metadata": {
  "kernelspec": {
   "display_name": "Python 3",
   "language": "python",
   "name": "python3"
  },
  "language_info": {
   "codemirror_mode": {
    "name": "ipython",
    "version": 3
   },
   "file_extension": ".py",
   "mimetype": "text/x-python",
   "name": "python",
   "nbconvert_exporter": "python",
   "pygments_lexer": "ipython3",
   "version": "3.6.4"
  }
 },
 "nbformat": 4,
 "nbformat_minor": 2
}
